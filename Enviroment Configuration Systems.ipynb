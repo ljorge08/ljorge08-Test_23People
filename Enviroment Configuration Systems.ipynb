{
 "cells": [
  {
   "cell_type": "markdown",
   "metadata": {},
   "source": [
    "# Enviroment Configuration Systems\n",
    "\n",
    "* This notebook contains the configurations scripts needed to deploy the WEB Service."
   ]
  },
  {
   "cell_type": "markdown",
   "metadata": {},
   "source": [
    "##  Data Base configurations -->"
   ]
  },
  {
   "cell_type": "markdown",
   "metadata": {},
   "source": [
    "### Create the database.\n",
    "\n",
    "CREATE DATABASE 23people DEFAULT CHARACTER SET utf8 DEFAULT COLLATE utf8_general_ci;"
   ]
  },
  {
   "cell_type": "markdown",
   "metadata": {},
   "source": [
    "### Create the user.\n",
    "\n",
    "CREATE USER 'xxxxx'@'%' IDENTIFIED BY '********';"
   ]
  },
  {
   "cell_type": "markdown",
   "metadata": {},
   "source": [
    "### Udpdate the password user\n",
    "\n",
    "UPDATE mysql.user SET Password=PASSWORD('******') WHERE USER='JR_23people' AND Host='%';"
   ]
  },
  {
   "cell_type": "markdown",
   "metadata": {},
   "source": [
    "### Create user privileges\n",
    "\n",
    "GRANT ALL ON 23people.users TO JR_23people@'%' IDENTIFIED BY 'JR_23people';"
   ]
  },
  {
   "cell_type": "markdown",
   "metadata": {},
   "source": [
    "### Create table \n",
    "\n",
    "use 23people;"
   ]
  },
  {
   "cell_type": "markdown",
   "metadata": {},
   "source": [
    "CREATE TABLE IF NOT EXISTS `users` ( \n",
    "  `id` int(11) NOT NULL AUTO_INCREMENT COMMENT 'Primary Key',\n",
    "  `nationalId` varchar(10) NOT NULL,\n",
    "  `name` varchar(50) NOT NULL COMMENT 'name',\n",
    "  `lastName` varchar(100) NOT NULL COMMENT 'last Name',\n",
    "  `age` int(3) DEFAULT NULL,\n",
    "  `originPlanet` text NOT NULL,\n",
    "  `PictureURL` text , \n",
    "  PRIMARY KEY (`id`),\n",
    "  UNIQUE KEY `nationalId` (`nationalId`)\n",
    ") ENGINE=InnoDB DEFAULT CHARSET=latin1 COMMENT='Users';"
   ]
  },
  {
   "cell_type": "markdown",
   "metadata": {},
   "source": [
    "### Load users data to the table\n",
    "\n",
    "LOAD DATA LOCAL INFILE 'C:/LoadData/users.csv' INTO TABLE users FIELDS TERMINATED BY  ';'  LINES TERMINATED BY '\\n';"
   ]
  },
  {
   "cell_type": "markdown",
   "metadata": {},
   "source": [
    "## Python Configuration -->"
   ]
  },
  {
   "cell_type": "markdown",
   "metadata": {},
   "source": [
    "### Install the Flask library\n",
    "\n",
    "* This library is used to manage the WS requests\n",
    "\n",
    "                                             sudo pip install flask"
   ]
  },
  {
   "cell_type": "markdown",
   "metadata": {},
   "source": [
    "### Install pymysql\n",
    "\n",
    "* This library is used to manage the conection to the DB\n",
    "\n",
    "                                              sudo pip install pymysql"
   ]
  },
  {
   "cell_type": "markdown",
   "metadata": {},
   "source": [
    "### sudo pip install flask_restful\n",
    "\n",
    "* This Library is used to manage WS API\n",
    "\n",
    "                                               sudo pip install flask_restful"
   ]
  },
  {
   "cell_type": "code",
   "execution_count": null,
   "metadata": {},
   "outputs": [],
   "source": []
  }
 ],
 "metadata": {
  "kernelspec": {
   "display_name": "Python 3",
   "language": "python",
   "name": "python3"
  },
  "language_info": {
   "codemirror_mode": {
    "name": "ipython",
    "version": 3
   },
   "file_extension": ".py",
   "mimetype": "text/x-python",
   "name": "python",
   "nbconvert_exporter": "python",
   "pygments_lexer": "ipython3",
   "version": "3.7.3"
  }
 },
 "nbformat": 4,
 "nbformat_minor": 2
}
